{
 "cells": [
  {
   "cell_type": "markdown",
   "metadata": {
    "id": "8PLE66WvpJjF"
   },
   "source": [
    "# Práctica 1 - Regresión\n",
    "\n",
    "Vamos a trabajar con un conjunto de datos que representa una serie de billetes de renfe. Entre sus parámetros se encuentran:\n",
    "\n",
    "\n",
    "\n",
    "\n",
    "*   **id**: identificador del billete\n",
    "*   **company**: empresa\n",
    "*   **origin**: lugar de salida del tren\n",
    "*   **destination**: lugar de llegada del tren\n",
    "*   **departure**: hora de salida del tren\n",
    "*   **arrival**: hora de llegada del tren\n",
    "*   **duration**: duración del trayecto\n",
    "*   **vehicle_type**: tipo de tren\n",
    "*   **vehicle_class**: clase del pasajero\n",
    "*   **price**: precio (variable objetivo, a predecir)\n",
    "\n",
    "\n",
    "\n"
   ]
  },
  {
   "cell_type": "code",
   "execution_count": 1,
   "metadata": {
    "id": "YDjq6CnAU-Zz"
   },
   "outputs": [],
   "source": [
    "import pandas as pd\n",
    "import numpy as np\n",
    "import seaborn as sb\n",
    "from sklearn.preprocessing import MinMaxScaler, OrdinalEncoder, OneHotEncoder, PolynomialFeatures\n",
    "from sklearn import linear_model\n",
    "import matplotlib.pyplot as plt\n",
    "import datetime as dt\n",
    "from sklearn.metrics import mean_absolute_error, mean_squared_error"
   ]
  },
  {
   "cell_type": "code",
   "execution_count": 2,
   "metadata": {
    "id": "-Fl_LUiRmzBF"
   },
   "outputs": [],
   "source": [
    "test_url = \"https://gist.githubusercontent.com/w-dan/a3c63b2aed66a5edd1288c1d3006fc79/raw/9dcc831af941428edad3ef285729e4ef5a63a9fb/renfe-test.csv\"\n",
    "train_url = \"https://gist.githubusercontent.com/w-dan/a3c63b2aed66a5edd1288c1d3006fc79/raw/9dcc831af941428edad3ef285729e4ef5a63a9fb/renfe-train.csv\""
   ]
  },
  {
   "cell_type": "code",
   "execution_count": 3,
   "metadata": {
    "id": "TX9tfUmHm7Rj"
   },
   "outputs": [],
   "source": [
    "test = pd.read_csv(test_url)\n",
    "train = pd.read_csv(train_url)"
   ]
  },
  {
   "cell_type": "code",
   "execution_count": 4,
   "metadata": {
    "id": "w7n7f0t-U8sM"
   },
   "outputs": [],
   "source": [
    "hehe = train.copy()"
   ]
  },
  {
   "cell_type": "code",
   "execution_count": 5,
   "metadata": {
    "colab": {
     "base_uri": "https://localhost:8080/"
    },
    "id": "Ubig5Uc7VuSJ",
    "outputId": "2eba271f-703e-4a03-f6a2-305ef97a9c79"
   },
   "outputs": [
    {
     "data": {
      "text/plain": [
       "Turista               2264\n",
       "Preferente             361\n",
       "Turista Plus           269\n",
       "Turista con enlace     102\n",
       "Name: vehicle_class, dtype: int64"
      ]
     },
     "execution_count": 5,
     "metadata": {},
     "output_type": "execute_result"
    }
   ],
   "source": [
    "train['vehicle_class'].value_counts()\n",
    "#train.groupby('vehicle_type', as_index= False)['price'].mean()"
   ]
  },
  {
   "cell_type": "code",
   "execution_count": 6,
   "metadata": {
    "id": "4jG11k3ncHLH"
   },
   "outputs": [],
   "source": [
    "#train.loc[train.vehicle_type == 'MD-LD']"
   ]
  },
  {
   "cell_type": "code",
   "execution_count": 7,
   "metadata": {
    "colab": {
     "base_uri": "https://localhost:8080/"
    },
    "id": "3CxFy0q5Oqcb",
    "outputId": "a6d062fb-15a1-4cb8-c9ff-331b741fe98c"
   },
   "outputs": [
    {
     "data": {
      "text/plain": [
       "0"
      ]
     },
     "execution_count": 7,
     "metadata": {},
     "output_type": "execute_result"
    }
   ],
   "source": [
    "train.vehicle_type.isna().sum()"
   ]
  },
  {
   "cell_type": "code",
   "execution_count": 8,
   "metadata": {
    "colab": {
     "base_uri": "https://localhost:8080/",
     "height": 423
    },
    "id": "QiM92vd0AbWF",
    "outputId": "4e793d26-1d39-43ba-eab5-056f22a1998c"
   },
   "outputs": [
    {
     "data": {
      "text/html": [
       "<div>\n",
       "<style scoped>\n",
       "    .dataframe tbody tr th:only-of-type {\n",
       "        vertical-align: middle;\n",
       "    }\n",
       "\n",
       "    .dataframe tbody tr th {\n",
       "        vertical-align: top;\n",
       "    }\n",
       "\n",
       "    .dataframe thead th {\n",
       "        text-align: right;\n",
       "    }\n",
       "</style>\n",
       "<table border=\"1\" class=\"dataframe\">\n",
       "  <thead>\n",
       "    <tr style=\"text-align: right;\">\n",
       "      <th></th>\n",
       "      <th>id</th>\n",
       "      <th>company</th>\n",
       "      <th>origin</th>\n",
       "      <th>destination</th>\n",
       "      <th>departure</th>\n",
       "      <th>arrival</th>\n",
       "      <th>duration</th>\n",
       "      <th>vehicle_type</th>\n",
       "      <th>vehicle_class</th>\n",
       "      <th>price</th>\n",
       "      <th>fare</th>\n",
       "      <th>seats</th>\n",
       "      <th>meta</th>\n",
       "      <th>insert_date</th>\n",
       "    </tr>\n",
       "  </thead>\n",
       "  <tbody>\n",
       "    <tr>\n",
       "      <th>0</th>\n",
       "      <td>1</td>\n",
       "      <td>renfe</td>\n",
       "      <td>MADRID</td>\n",
       "      <td>BARCELONA</td>\n",
       "      <td>2019-04-18 05:50:00</td>\n",
       "      <td>2019-04-18 08:55:00</td>\n",
       "      <td>3.08</td>\n",
       "      <td>AVE</td>\n",
       "      <td>Preferente</td>\n",
       "      <td>68.95</td>\n",
       "      <td>Promo</td>\n",
       "      <td>NaN</td>\n",
       "      <td>{}</td>\n",
       "      <td>2019-04-11 21:49:46</td>\n",
       "    </tr>\n",
       "    <tr>\n",
       "      <th>1</th>\n",
       "      <td>2</td>\n",
       "      <td>renfe</td>\n",
       "      <td>MADRID</td>\n",
       "      <td>BARCELONA</td>\n",
       "      <td>2019-04-18 13:25:00</td>\n",
       "      <td>2019-04-18 16:24:00</td>\n",
       "      <td>2.98</td>\n",
       "      <td>AVE-TGV</td>\n",
       "      <td>Turista</td>\n",
       "      <td>107.70</td>\n",
       "      <td>Flexible</td>\n",
       "      <td>NaN</td>\n",
       "      <td>{}</td>\n",
       "      <td>2019-04-11 21:49:46</td>\n",
       "    </tr>\n",
       "    <tr>\n",
       "      <th>2</th>\n",
       "      <td>3</td>\n",
       "      <td>renfe</td>\n",
       "      <td>MADRID</td>\n",
       "      <td>BARCELONA</td>\n",
       "      <td>2019-04-18 06:30:00</td>\n",
       "      <td>2019-04-18 09:20:00</td>\n",
       "      <td>2.83</td>\n",
       "      <td>AVE</td>\n",
       "      <td>Turista</td>\n",
       "      <td>75.40</td>\n",
       "      <td>Promo</td>\n",
       "      <td>NaN</td>\n",
       "      <td>{}</td>\n",
       "      <td>2019-04-11 21:49:46</td>\n",
       "    </tr>\n",
       "    <tr>\n",
       "      <th>3</th>\n",
       "      <td>4</td>\n",
       "      <td>renfe</td>\n",
       "      <td>MADRID</td>\n",
       "      <td>BARCELONA</td>\n",
       "      <td>2019-04-18 15:30:00</td>\n",
       "      <td>2019-04-18 18:40:00</td>\n",
       "      <td>3.17</td>\n",
       "      <td>AVE</td>\n",
       "      <td>Preferente</td>\n",
       "      <td>NaN</td>\n",
       "      <td>Promo</td>\n",
       "      <td>NaN</td>\n",
       "      <td>{}</td>\n",
       "      <td>2019-04-11 21:49:46</td>\n",
       "    </tr>\n",
       "    <tr>\n",
       "      <th>4</th>\n",
       "      <td>5</td>\n",
       "      <td>renfe</td>\n",
       "      <td>MADRID</td>\n",
       "      <td>BARCELONA</td>\n",
       "      <td>2019-04-18 07:00:00</td>\n",
       "      <td>2019-04-18 09:30:00</td>\n",
       "      <td>2.50</td>\n",
       "      <td>AVE</td>\n",
       "      <td>Turista Plus</td>\n",
       "      <td>106.75</td>\n",
       "      <td>Promo</td>\n",
       "      <td>NaN</td>\n",
       "      <td>{}</td>\n",
       "      <td>2019-04-11 21:49:46</td>\n",
       "    </tr>\n",
       "    <tr>\n",
       "      <th>...</th>\n",
       "      <td>...</td>\n",
       "      <td>...</td>\n",
       "      <td>...</td>\n",
       "      <td>...</td>\n",
       "      <td>...</td>\n",
       "      <td>...</td>\n",
       "      <td>...</td>\n",
       "      <td>...</td>\n",
       "      <td>...</td>\n",
       "      <td>...</td>\n",
       "      <td>...</td>\n",
       "      <td>...</td>\n",
       "      <td>...</td>\n",
       "      <td>...</td>\n",
       "    </tr>\n",
       "    <tr>\n",
       "      <th>2995</th>\n",
       "      <td>2996</td>\n",
       "      <td>renfe</td>\n",
       "      <td>MADRID</td>\n",
       "      <td>VALENCIA</td>\n",
       "      <td>2019-06-03 16:05:00</td>\n",
       "      <td>2019-06-03 22:47:00</td>\n",
       "      <td>6.70</td>\n",
       "      <td>REGIONAL</td>\n",
       "      <td>Turista</td>\n",
       "      <td>28.35</td>\n",
       "      <td>Adulto ida</td>\n",
       "      <td>NaN</td>\n",
       "      <td>{}</td>\n",
       "      <td>2019-04-11 22:00:09</td>\n",
       "    </tr>\n",
       "    <tr>\n",
       "      <th>2996</th>\n",
       "      <td>2997</td>\n",
       "      <td>renfe</td>\n",
       "      <td>MADRID</td>\n",
       "      <td>BARCELONA</td>\n",
       "      <td>2019-04-28 14:30:00</td>\n",
       "      <td>2019-04-28 17:21:00</td>\n",
       "      <td>2.85</td>\n",
       "      <td>AVE</td>\n",
       "      <td>Turista</td>\n",
       "      <td>107.70</td>\n",
       "      <td>Flexible</td>\n",
       "      <td>NaN</td>\n",
       "      <td>{}</td>\n",
       "      <td>2019-04-11 22:00:09</td>\n",
       "    </tr>\n",
       "    <tr>\n",
       "      <th>2997</th>\n",
       "      <td>2998</td>\n",
       "      <td>renfe</td>\n",
       "      <td>MADRID</td>\n",
       "      <td>BARCELONA</td>\n",
       "      <td>2019-04-28 06:20:00</td>\n",
       "      <td>2019-04-28 09:29:00</td>\n",
       "      <td>3.15</td>\n",
       "      <td>AVE</td>\n",
       "      <td>Turista</td>\n",
       "      <td>49.55</td>\n",
       "      <td>Promo</td>\n",
       "      <td>NaN</td>\n",
       "      <td>{}</td>\n",
       "      <td>2019-04-11 22:00:09</td>\n",
       "    </tr>\n",
       "    <tr>\n",
       "      <th>2998</th>\n",
       "      <td>2999</td>\n",
       "      <td>renfe</td>\n",
       "      <td>MADRID</td>\n",
       "      <td>BARCELONA</td>\n",
       "      <td>2019-04-28 19:30:00</td>\n",
       "      <td>2019-04-28 22:40:00</td>\n",
       "      <td>3.17</td>\n",
       "      <td>AVE</td>\n",
       "      <td>Turista</td>\n",
       "      <td>85.10</td>\n",
       "      <td>Promo</td>\n",
       "      <td>NaN</td>\n",
       "      <td>{}</td>\n",
       "      <td>2019-04-11 22:00:09</td>\n",
       "    </tr>\n",
       "    <tr>\n",
       "      <th>2999</th>\n",
       "      <td>3000</td>\n",
       "      <td>renfe</td>\n",
       "      <td>MADRID</td>\n",
       "      <td>BARCELONA</td>\n",
       "      <td>2019-04-28 07:30:00</td>\n",
       "      <td>2019-04-28 10:40:00</td>\n",
       "      <td>3.17</td>\n",
       "      <td>AVE</td>\n",
       "      <td>Preferente</td>\n",
       "      <td>68.95</td>\n",
       "      <td>Promo</td>\n",
       "      <td>NaN</td>\n",
       "      <td>{}</td>\n",
       "      <td>2019-04-11 22:00:09</td>\n",
       "    </tr>\n",
       "  </tbody>\n",
       "</table>\n",
       "<p>3000 rows × 14 columns</p>\n",
       "</div>"
      ],
      "text/plain": [
       "        id company  origin destination            departure  \\\n",
       "0        1   renfe  MADRID   BARCELONA  2019-04-18 05:50:00   \n",
       "1        2   renfe  MADRID   BARCELONA  2019-04-18 13:25:00   \n",
       "2        3   renfe  MADRID   BARCELONA  2019-04-18 06:30:00   \n",
       "3        4   renfe  MADRID   BARCELONA  2019-04-18 15:30:00   \n",
       "4        5   renfe  MADRID   BARCELONA  2019-04-18 07:00:00   \n",
       "...    ...     ...     ...         ...                  ...   \n",
       "2995  2996   renfe  MADRID    VALENCIA  2019-06-03 16:05:00   \n",
       "2996  2997   renfe  MADRID   BARCELONA  2019-04-28 14:30:00   \n",
       "2997  2998   renfe  MADRID   BARCELONA  2019-04-28 06:20:00   \n",
       "2998  2999   renfe  MADRID   BARCELONA  2019-04-28 19:30:00   \n",
       "2999  3000   renfe  MADRID   BARCELONA  2019-04-28 07:30:00   \n",
       "\n",
       "                  arrival  duration vehicle_type vehicle_class   price  \\\n",
       "0     2019-04-18 08:55:00      3.08          AVE    Preferente   68.95   \n",
       "1     2019-04-18 16:24:00      2.98      AVE-TGV       Turista  107.70   \n",
       "2     2019-04-18 09:20:00      2.83          AVE       Turista   75.40   \n",
       "3     2019-04-18 18:40:00      3.17          AVE    Preferente     NaN   \n",
       "4     2019-04-18 09:30:00      2.50          AVE  Turista Plus  106.75   \n",
       "...                   ...       ...          ...           ...     ...   \n",
       "2995  2019-06-03 22:47:00      6.70     REGIONAL       Turista   28.35   \n",
       "2996  2019-04-28 17:21:00      2.85          AVE       Turista  107.70   \n",
       "2997  2019-04-28 09:29:00      3.15          AVE       Turista   49.55   \n",
       "2998  2019-04-28 22:40:00      3.17          AVE       Turista   85.10   \n",
       "2999  2019-04-28 10:40:00      3.17          AVE    Preferente   68.95   \n",
       "\n",
       "            fare  seats meta          insert_date  \n",
       "0          Promo    NaN   {}  2019-04-11 21:49:46  \n",
       "1       Flexible    NaN   {}  2019-04-11 21:49:46  \n",
       "2          Promo    NaN   {}  2019-04-11 21:49:46  \n",
       "3          Promo    NaN   {}  2019-04-11 21:49:46  \n",
       "4          Promo    NaN   {}  2019-04-11 21:49:46  \n",
       "...          ...    ...  ...                  ...  \n",
       "2995  Adulto ida    NaN   {}  2019-04-11 22:00:09  \n",
       "2996    Flexible    NaN   {}  2019-04-11 22:00:09  \n",
       "2997       Promo    NaN   {}  2019-04-11 22:00:09  \n",
       "2998       Promo    NaN   {}  2019-04-11 22:00:09  \n",
       "2999       Promo    NaN   {}  2019-04-11 22:00:09  \n",
       "\n",
       "[3000 rows x 14 columns]"
      ]
     },
     "execution_count": 8,
     "metadata": {},
     "output_type": "execute_result"
    }
   ],
   "source": [
    "train"
   ]
  },
  {
   "cell_type": "code",
   "execution_count": 9,
   "metadata": {
    "id": "sZV2QmYtLF5G"
   },
   "outputs": [],
   "source": [
    "import random\n",
    "\n",
    "def randomize():\n",
    "  return np.random.choice([1,-1])"
   ]
  },
  {
   "cell_type": "code",
   "execution_count": 10,
   "metadata": {
    "colab": {
     "base_uri": "https://localhost:8080/"
    },
    "id": "0sneK4_uLUIw",
    "outputId": "8cd190eb-2a00-4493-a8c3-7d854f50ea95"
   },
   "outputs": [
    {
     "name": "stdout",
     "output_type": "stream",
     "text": [
      "26.022150414543237\n"
     ]
    }
   ],
   "source": [
    "print(train['price'].std())"
   ]
  },
  {
   "cell_type": "code",
   "execution_count": 11,
   "metadata": {
    "colab": {
     "base_uri": "https://localhost:8080/",
     "height": 423
    },
    "id": "3FsK-JP-ztrW",
    "outputId": "1c22d061-cfae-4614-dd41-41b07f9393c4"
   },
   "outputs": [
    {
     "data": {
      "text/html": [
       "<div>\n",
       "<style scoped>\n",
       "    .dataframe tbody tr th:only-of-type {\n",
       "        vertical-align: middle;\n",
       "    }\n",
       "\n",
       "    .dataframe tbody tr th {\n",
       "        vertical-align: top;\n",
       "    }\n",
       "\n",
       "    .dataframe thead th {\n",
       "        text-align: right;\n",
       "    }\n",
       "</style>\n",
       "<table border=\"1\" class=\"dataframe\">\n",
       "  <thead>\n",
       "    <tr style=\"text-align: right;\">\n",
       "      <th></th>\n",
       "      <th>id</th>\n",
       "      <th>vehicle_type</th>\n",
       "      <th>vehicle_class</th>\n",
       "      <th>insert_date_secs</th>\n",
       "      <th>departure_mins</th>\n",
       "      <th>departure_h</th>\n",
       "      <th>departure_d</th>\n",
       "      <th>departure_M</th>\n",
       "      <th>arrival_h</th>\n",
       "      <th>arrival_d</th>\n",
       "      <th>arrival_M</th>\n",
       "      <th>fare_Flexible</th>\n",
       "      <th>fare_Promo</th>\n",
       "      <th>fare_Promo +</th>\n",
       "      <th>destination_SEVILLA</th>\n",
       "      <th>destination_VALENCIA</th>\n",
       "    </tr>\n",
       "  </thead>\n",
       "  <tbody>\n",
       "    <tr>\n",
       "      <th>0</th>\n",
       "      <td>1</td>\n",
       "      <td>8.0</td>\n",
       "      <td>3.0</td>\n",
       "      <td>0.789474</td>\n",
       "      <td>0.909091</td>\n",
       "      <td>0.0000</td>\n",
       "      <td>0.586207</td>\n",
       "      <td>0.0</td>\n",
       "      <td>0.347826</td>\n",
       "      <td>0.586207</td>\n",
       "      <td>0.0</td>\n",
       "      <td>0</td>\n",
       "      <td>1</td>\n",
       "      <td>0</td>\n",
       "      <td>0</td>\n",
       "      <td>0</td>\n",
       "    </tr>\n",
       "    <tr>\n",
       "      <th>1</th>\n",
       "      <td>2</td>\n",
       "      <td>9.0</td>\n",
       "      <td>1.0</td>\n",
       "      <td>0.789474</td>\n",
       "      <td>0.454545</td>\n",
       "      <td>0.5000</td>\n",
       "      <td>0.586207</td>\n",
       "      <td>0.0</td>\n",
       "      <td>0.695652</td>\n",
       "      <td>0.586207</td>\n",
       "      <td>0.0</td>\n",
       "      <td>1</td>\n",
       "      <td>0</td>\n",
       "      <td>0</td>\n",
       "      <td>0</td>\n",
       "      <td>0</td>\n",
       "    </tr>\n",
       "    <tr>\n",
       "      <th>2</th>\n",
       "      <td>3</td>\n",
       "      <td>8.0</td>\n",
       "      <td>1.0</td>\n",
       "      <td>0.789474</td>\n",
       "      <td>0.545455</td>\n",
       "      <td>0.0625</td>\n",
       "      <td>0.586207</td>\n",
       "      <td>0.0</td>\n",
       "      <td>0.391304</td>\n",
       "      <td>0.586207</td>\n",
       "      <td>0.0</td>\n",
       "      <td>0</td>\n",
       "      <td>1</td>\n",
       "      <td>0</td>\n",
       "      <td>0</td>\n",
       "      <td>0</td>\n",
       "    </tr>\n",
       "    <tr>\n",
       "      <th>4</th>\n",
       "      <td>5</td>\n",
       "      <td>8.0</td>\n",
       "      <td>2.0</td>\n",
       "      <td>0.789474</td>\n",
       "      <td>0.000000</td>\n",
       "      <td>0.1250</td>\n",
       "      <td>0.586207</td>\n",
       "      <td>0.0</td>\n",
       "      <td>0.391304</td>\n",
       "      <td>0.586207</td>\n",
       "      <td>0.0</td>\n",
       "      <td>0</td>\n",
       "      <td>1</td>\n",
       "      <td>0</td>\n",
       "      <td>0</td>\n",
       "      <td>0</td>\n",
       "    </tr>\n",
       "    <tr>\n",
       "      <th>5</th>\n",
       "      <td>6</td>\n",
       "      <td>8.0</td>\n",
       "      <td>1.0</td>\n",
       "      <td>0.789474</td>\n",
       "      <td>0.545455</td>\n",
       "      <td>0.0625</td>\n",
       "      <td>0.586207</td>\n",
       "      <td>0.0</td>\n",
       "      <td>0.391304</td>\n",
       "      <td>0.586207</td>\n",
       "      <td>0.0</td>\n",
       "      <td>0</td>\n",
       "      <td>1</td>\n",
       "      <td>0</td>\n",
       "      <td>0</td>\n",
       "      <td>0</td>\n",
       "    </tr>\n",
       "    <tr>\n",
       "      <th>...</th>\n",
       "      <td>...</td>\n",
       "      <td>...</td>\n",
       "      <td>...</td>\n",
       "      <td>...</td>\n",
       "      <td>...</td>\n",
       "      <td>...</td>\n",
       "      <td>...</td>\n",
       "      <td>...</td>\n",
       "      <td>...</td>\n",
       "      <td>...</td>\n",
       "      <td>...</td>\n",
       "      <td>...</td>\n",
       "      <td>...</td>\n",
       "      <td>...</td>\n",
       "      <td>...</td>\n",
       "      <td>...</td>\n",
       "    </tr>\n",
       "    <tr>\n",
       "      <th>2995</th>\n",
       "      <td>2996</td>\n",
       "      <td>0.0</td>\n",
       "      <td>1.0</td>\n",
       "      <td>0.140351</td>\n",
       "      <td>0.090909</td>\n",
       "      <td>0.6875</td>\n",
       "      <td>0.068966</td>\n",
       "      <td>1.0</td>\n",
       "      <td>0.956522</td>\n",
       "      <td>0.068966</td>\n",
       "      <td>1.0</td>\n",
       "      <td>0</td>\n",
       "      <td>0</td>\n",
       "      <td>0</td>\n",
       "      <td>0</td>\n",
       "      <td>1</td>\n",
       "    </tr>\n",
       "    <tr>\n",
       "      <th>2996</th>\n",
       "      <td>2997</td>\n",
       "      <td>8.0</td>\n",
       "      <td>1.0</td>\n",
       "      <td>0.140351</td>\n",
       "      <td>0.545455</td>\n",
       "      <td>0.5625</td>\n",
       "      <td>0.931034</td>\n",
       "      <td>0.0</td>\n",
       "      <td>0.739130</td>\n",
       "      <td>0.931034</td>\n",
       "      <td>0.0</td>\n",
       "      <td>1</td>\n",
       "      <td>0</td>\n",
       "      <td>0</td>\n",
       "      <td>0</td>\n",
       "      <td>0</td>\n",
       "    </tr>\n",
       "    <tr>\n",
       "      <th>2997</th>\n",
       "      <td>2998</td>\n",
       "      <td>8.0</td>\n",
       "      <td>1.0</td>\n",
       "      <td>0.140351</td>\n",
       "      <td>0.363636</td>\n",
       "      <td>0.0625</td>\n",
       "      <td>0.931034</td>\n",
       "      <td>0.0</td>\n",
       "      <td>0.391304</td>\n",
       "      <td>0.931034</td>\n",
       "      <td>0.0</td>\n",
       "      <td>0</td>\n",
       "      <td>1</td>\n",
       "      <td>0</td>\n",
       "      <td>0</td>\n",
       "      <td>0</td>\n",
       "    </tr>\n",
       "    <tr>\n",
       "      <th>2998</th>\n",
       "      <td>2999</td>\n",
       "      <td>8.0</td>\n",
       "      <td>1.0</td>\n",
       "      <td>0.140351</td>\n",
       "      <td>0.545455</td>\n",
       "      <td>0.8750</td>\n",
       "      <td>0.931034</td>\n",
       "      <td>0.0</td>\n",
       "      <td>0.956522</td>\n",
       "      <td>0.931034</td>\n",
       "      <td>0.0</td>\n",
       "      <td>0</td>\n",
       "      <td>1</td>\n",
       "      <td>0</td>\n",
       "      <td>0</td>\n",
       "      <td>0</td>\n",
       "    </tr>\n",
       "    <tr>\n",
       "      <th>2999</th>\n",
       "      <td>3000</td>\n",
       "      <td>8.0</td>\n",
       "      <td>3.0</td>\n",
       "      <td>0.140351</td>\n",
       "      <td>0.545455</td>\n",
       "      <td>0.1250</td>\n",
       "      <td>0.931034</td>\n",
       "      <td>0.0</td>\n",
       "      <td>0.434783</td>\n",
       "      <td>0.931034</td>\n",
       "      <td>0.0</td>\n",
       "      <td>0</td>\n",
       "      <td>1</td>\n",
       "      <td>0</td>\n",
       "      <td>0</td>\n",
       "      <td>0</td>\n",
       "    </tr>\n",
       "  </tbody>\n",
       "</table>\n",
       "<p>2688 rows × 16 columns</p>\n",
       "</div>"
      ],
      "text/plain": [
       "        id  vehicle_type  vehicle_class  insert_date_secs  departure_mins  \\\n",
       "0        1           8.0            3.0          0.789474        0.909091   \n",
       "1        2           9.0            1.0          0.789474        0.454545   \n",
       "2        3           8.0            1.0          0.789474        0.545455   \n",
       "4        5           8.0            2.0          0.789474        0.000000   \n",
       "5        6           8.0            1.0          0.789474        0.545455   \n",
       "...    ...           ...            ...               ...             ...   \n",
       "2995  2996           0.0            1.0          0.140351        0.090909   \n",
       "2996  2997           8.0            1.0          0.140351        0.545455   \n",
       "2997  2998           8.0            1.0          0.140351        0.363636   \n",
       "2998  2999           8.0            1.0          0.140351        0.545455   \n",
       "2999  3000           8.0            3.0          0.140351        0.545455   \n",
       "\n",
       "      departure_h  departure_d  departure_M  arrival_h  arrival_d  arrival_M  \\\n",
       "0          0.0000     0.586207          0.0   0.347826   0.586207        0.0   \n",
       "1          0.5000     0.586207          0.0   0.695652   0.586207        0.0   \n",
       "2          0.0625     0.586207          0.0   0.391304   0.586207        0.0   \n",
       "4          0.1250     0.586207          0.0   0.391304   0.586207        0.0   \n",
       "5          0.0625     0.586207          0.0   0.391304   0.586207        0.0   \n",
       "...           ...          ...          ...        ...        ...        ...   \n",
       "2995       0.6875     0.068966          1.0   0.956522   0.068966        1.0   \n",
       "2996       0.5625     0.931034          0.0   0.739130   0.931034        0.0   \n",
       "2997       0.0625     0.931034          0.0   0.391304   0.931034        0.0   \n",
       "2998       0.8750     0.931034          0.0   0.956522   0.931034        0.0   \n",
       "2999       0.1250     0.931034          0.0   0.434783   0.931034        0.0   \n",
       "\n",
       "      fare_Flexible  fare_Promo  fare_Promo +  destination_SEVILLA  \\\n",
       "0                 0           1             0                    0   \n",
       "1                 1           0             0                    0   \n",
       "2                 0           1             0                    0   \n",
       "4                 0           1             0                    0   \n",
       "5                 0           1             0                    0   \n",
       "...             ...         ...           ...                  ...   \n",
       "2995              0           0             0                    0   \n",
       "2996              1           0             0                    0   \n",
       "2997              0           1             0                    0   \n",
       "2998              0           1             0                    0   \n",
       "2999              0           1             0                    0   \n",
       "\n",
       "      destination_VALENCIA  \n",
       "0                        0  \n",
       "1                        0  \n",
       "2                        0  \n",
       "4                        0  \n",
       "5                        0  \n",
       "...                    ...  \n",
       "2995                     1  \n",
       "2996                     0  \n",
       "2997                     0  \n",
       "2998                     0  \n",
       "2999                     0  \n",
       "\n",
       "[2688 rows x 16 columns]"
      ]
     },
     "execution_count": 11,
     "metadata": {},
     "output_type": "execute_result"
    }
   ],
   "source": [
    "hehe = train.copy()\n",
    "\n",
    "hehe['departure'] = (pd.to_datetime(hehe['departure']))\n",
    "hehe['arrival'] = (pd.to_datetime(hehe['arrival']))\n",
    "hehe['insert_date'] = (pd.to_datetime(hehe['insert_date']))\n",
    "\n",
    "hehe['insert_date_secs'] = hehe['insert_date'].dt.second\n",
    "\n",
    "hehe['departure_mins'] = hehe['departure'].dt.minute\n",
    "hehe['departure_h'] = hehe['departure'].dt.hour\n",
    "hehe['departure_d'] = hehe['departure'].dt.day\n",
    "hehe['departure_M'] = hehe['departure'].dt.month\n",
    "\n",
    "hehe['arrival_h'] = hehe['arrival'].dt.hour\n",
    "hehe['arrival_d'] = hehe['arrival'].dt.day\n",
    "hehe['arrival_M'] = hehe['arrival'].dt.month\n",
    "\n",
    "#hehe = hehe.drop(['id'], axis = 1)\n",
    "hehe = hehe.drop(['seats'], axis = 1)\n",
    "hehe = hehe.drop(['origin'], axis = 1)\n",
    "hehe = hehe.drop(['company'], axis = 1)\n",
    "hehe = hehe.drop(['meta'], axis = 1)\n",
    "hehe = hehe.drop(['departure'], axis = 1)\n",
    "hehe = hehe.drop(['arrival'], axis = 1)\n",
    "hehe = hehe.drop(['insert_date'], axis = 1)\n",
    "#hehe = hehe.drop(['vehicle_class'], axis = 1)\n",
    "hehe = hehe.drop(['duration'], axis = 1)\n",
    "\n",
    "#hehe = hehe.fillna(hehe.price.mean() + randomize()*hehe['price'].std())\n",
    "\n",
    "hehe.vehicle_class = hehe.vehicle_class.fillna('Turista')\n",
    "#hehe.price = hehe.price.fillna(hehe.price.median() + 0.1*hehe['price'].std())\n",
    "hehe = hehe.dropna(axis = 0)\n",
    "\n",
    "hehe = pd.get_dummies(hehe,prefix=['fare'], columns = ['fare'], drop_first=True)\n",
    "hehe = pd.get_dummies(hehe,prefix=['destination'], columns = ['destination'], drop_first=True)\n",
    "\n",
    "hehe[['vehicle_type']] = OrdinalEncoder(categories=[['REGIONAL', 'MD-LD', 'INTERCITY', 'R. EXPRES', 'AVE-LD', 'AV City', 'AVE-MD', 'ALVIA', 'AVE', 'AVE-TGV']]).fit_transform(hehe[['vehicle_type']])\n",
    "#hehe[['origin']] = OrdinalEncoder().fit_transform(hehe[['origin']])\n",
    "#hehe[['destination']] = OrdinalEncoder().fit_transform(hehe[['destination']])\n",
    "#hehe[['fare']] = OrdinalEncoder().fit_transform(hehe[['fare']])\n",
    "hehe[['vehicle_class']] = OrdinalEncoder(categories=[['Turista con enlace', 'Turista', 'Turista Plus', 'Preferente']]).fit_transform(hehe[['vehicle_class']])\n",
    "\n",
    "scaler = MinMaxScaler()\n",
    "#hehe[['duration']] = scaler.fit_transform(hehe[['duration']])\n",
    "hehe[['insert_date_secs']] = scaler.fit_transform(hehe[['insert_date_secs']])\n",
    "hehe[['departure_mins']] = scaler.fit_transform(hehe[['departure_mins']])\n",
    "hehe[['departure_h']] = scaler.fit_transform(hehe[['departure_h']])\n",
    "hehe[['departure_d']] = scaler.fit_transform(hehe[['departure_d']])\n",
    "hehe[['departure_M']] = scaler.fit_transform(hehe[['departure_M']])\n",
    "hehe[['arrival_h']] = scaler.fit_transform(hehe[['arrival_h']])\n",
    "hehe[['arrival_d']] = scaler.fit_transform(hehe[['arrival_d']])\n",
    "hehe[['arrival_M']] = scaler.fit_transform(hehe[['arrival_M']])\n",
    "\n",
    "y = hehe.pop('price')\n",
    "\n",
    "hehe"
   ]
  },
  {
   "cell_type": "code",
   "execution_count": 12,
   "metadata": {
    "colab": {
     "base_uri": "https://localhost:8080/"
    },
    "id": "EHXrNXNJMJyw",
    "outputId": "a5a12961-5496-4e1f-dea4-8fb821fa0184"
   },
   "outputs": [
    {
     "data": {
      "text/plain": [
       "0        68.95\n",
       "1       107.70\n",
       "2        75.40\n",
       "4       106.75\n",
       "5        75.40\n",
       "         ...  \n",
       "2995     28.35\n",
       "2996    107.70\n",
       "2997     49.55\n",
       "2998     85.10\n",
       "2999     68.95\n",
       "Name: price, Length: 2688, dtype: float64"
      ]
     },
     "execution_count": 12,
     "metadata": {},
     "output_type": "execute_result"
    }
   ],
   "source": [
    "y"
   ]
  },
  {
   "cell_type": "code",
   "execution_count": 13,
   "metadata": {
    "colab": {
     "base_uri": "https://localhost:8080/",
     "height": 423
    },
    "id": "quPxSqnfXsgw",
    "outputId": "8ee35068-70f6-4b20-b5ba-ddb97695c0db"
   },
   "outputs": [
    {
     "data": {
      "text/html": [
       "<div>\n",
       "<style scoped>\n",
       "    .dataframe tbody tr th:only-of-type {\n",
       "        vertical-align: middle;\n",
       "    }\n",
       "\n",
       "    .dataframe tbody tr th {\n",
       "        vertical-align: top;\n",
       "    }\n",
       "\n",
       "    .dataframe thead th {\n",
       "        text-align: right;\n",
       "    }\n",
       "</style>\n",
       "<table border=\"1\" class=\"dataframe\">\n",
       "  <thead>\n",
       "    <tr style=\"text-align: right;\">\n",
       "      <th></th>\n",
       "      <th>id</th>\n",
       "      <th>vehicle_type</th>\n",
       "      <th>vehicle_class</th>\n",
       "      <th>insert_date_secs</th>\n",
       "      <th>departure_mins</th>\n",
       "      <th>departure_h</th>\n",
       "      <th>departure_d</th>\n",
       "      <th>departure_M</th>\n",
       "      <th>arrival_h</th>\n",
       "      <th>arrival_d</th>\n",
       "      <th>arrival_M</th>\n",
       "      <th>fare_Flexible</th>\n",
       "      <th>fare_Promo</th>\n",
       "      <th>fare_Promo +</th>\n",
       "      <th>destination_SEVILLA</th>\n",
       "      <th>destination_VALENCIA</th>\n",
       "    </tr>\n",
       "  </thead>\n",
       "  <tbody>\n",
       "    <tr>\n",
       "      <th>0</th>\n",
       "      <td>3002</td>\n",
       "      <td>8.0</td>\n",
       "      <td>1.0</td>\n",
       "      <td>0.137931</td>\n",
       "      <td>0.545455</td>\n",
       "      <td>0.1875</td>\n",
       "      <td>0.900000</td>\n",
       "      <td>0.0</td>\n",
       "      <td>0.478261</td>\n",
       "      <td>0.900000</td>\n",
       "      <td>0.0</td>\n",
       "      <td>0</td>\n",
       "      <td>1</td>\n",
       "      <td>0</td>\n",
       "      <td>0</td>\n",
       "      <td>0</td>\n",
       "    </tr>\n",
       "    <tr>\n",
       "      <th>1</th>\n",
       "      <td>3003</td>\n",
       "      <td>8.0</td>\n",
       "      <td>3.0</td>\n",
       "      <td>0.137931</td>\n",
       "      <td>0.000000</td>\n",
       "      <td>0.9375</td>\n",
       "      <td>0.900000</td>\n",
       "      <td>0.0</td>\n",
       "      <td>0.956522</td>\n",
       "      <td>0.900000</td>\n",
       "      <td>0.0</td>\n",
       "      <td>0</td>\n",
       "      <td>1</td>\n",
       "      <td>0</td>\n",
       "      <td>0</td>\n",
       "      <td>0</td>\n",
       "    </tr>\n",
       "    <tr>\n",
       "      <th>2</th>\n",
       "      <td>3004</td>\n",
       "      <td>8.0</td>\n",
       "      <td>2.0</td>\n",
       "      <td>0.137931</td>\n",
       "      <td>0.545455</td>\n",
       "      <td>0.2500</td>\n",
       "      <td>0.900000</td>\n",
       "      <td>0.0</td>\n",
       "      <td>0.521739</td>\n",
       "      <td>0.900000</td>\n",
       "      <td>0.0</td>\n",
       "      <td>0</td>\n",
       "      <td>1</td>\n",
       "      <td>0</td>\n",
       "      <td>0</td>\n",
       "      <td>0</td>\n",
       "    </tr>\n",
       "    <tr>\n",
       "      <th>3</th>\n",
       "      <td>3005</td>\n",
       "      <td>0.0</td>\n",
       "      <td>1.0</td>\n",
       "      <td>0.137931</td>\n",
       "      <td>0.381818</td>\n",
       "      <td>0.4375</td>\n",
       "      <td>0.066667</td>\n",
       "      <td>1.0</td>\n",
       "      <td>0.826087</td>\n",
       "      <td>0.066667</td>\n",
       "      <td>1.0</td>\n",
       "      <td>0</td>\n",
       "      <td>0</td>\n",
       "      <td>0</td>\n",
       "      <td>0</td>\n",
       "      <td>1</td>\n",
       "    </tr>\n",
       "    <tr>\n",
       "      <th>4</th>\n",
       "      <td>3006</td>\n",
       "      <td>8.0</td>\n",
       "      <td>1.0</td>\n",
       "      <td>0.137931</td>\n",
       "      <td>0.545455</td>\n",
       "      <td>0.3125</td>\n",
       "      <td>0.900000</td>\n",
       "      <td>0.0</td>\n",
       "      <td>0.565217</td>\n",
       "      <td>0.900000</td>\n",
       "      <td>0.0</td>\n",
       "      <td>0</td>\n",
       "      <td>1</td>\n",
       "      <td>0</td>\n",
       "      <td>0</td>\n",
       "      <td>0</td>\n",
       "    </tr>\n",
       "    <tr>\n",
       "      <th>...</th>\n",
       "      <td>...</td>\n",
       "      <td>...</td>\n",
       "      <td>...</td>\n",
       "      <td>...</td>\n",
       "      <td>...</td>\n",
       "      <td>...</td>\n",
       "      <td>...</td>\n",
       "      <td>...</td>\n",
       "      <td>...</td>\n",
       "      <td>...</td>\n",
       "      <td>...</td>\n",
       "      <td>...</td>\n",
       "      <td>...</td>\n",
       "      <td>...</td>\n",
       "      <td>...</td>\n",
       "      <td>...</td>\n",
       "    </tr>\n",
       "    <tr>\n",
       "      <th>1990</th>\n",
       "      <td>4992</td>\n",
       "      <td>8.0</td>\n",
       "      <td>1.0</td>\n",
       "      <td>0.448276</td>\n",
       "      <td>0.545455</td>\n",
       "      <td>0.1875</td>\n",
       "      <td>0.366667</td>\n",
       "      <td>0.0</td>\n",
       "      <td>0.478261</td>\n",
       "      <td>0.366667</td>\n",
       "      <td>0.0</td>\n",
       "      <td>0</td>\n",
       "      <td>1</td>\n",
       "      <td>0</td>\n",
       "      <td>0</td>\n",
       "      <td>0</td>\n",
       "    </tr>\n",
       "    <tr>\n",
       "      <th>1993</th>\n",
       "      <td>4995</td>\n",
       "      <td>9.0</td>\n",
       "      <td>1.0</td>\n",
       "      <td>0.448276</td>\n",
       "      <td>0.454545</td>\n",
       "      <td>0.5000</td>\n",
       "      <td>0.366667</td>\n",
       "      <td>0.0</td>\n",
       "      <td>0.695652</td>\n",
       "      <td>0.366667</td>\n",
       "      <td>0.0</td>\n",
       "      <td>1</td>\n",
       "      <td>0</td>\n",
       "      <td>0</td>\n",
       "      <td>0</td>\n",
       "      <td>0</td>\n",
       "    </tr>\n",
       "    <tr>\n",
       "      <th>1994</th>\n",
       "      <td>4996</td>\n",
       "      <td>8.0</td>\n",
       "      <td>1.0</td>\n",
       "      <td>0.448276</td>\n",
       "      <td>0.545455</td>\n",
       "      <td>0.3125</td>\n",
       "      <td>0.366667</td>\n",
       "      <td>0.0</td>\n",
       "      <td>0.565217</td>\n",
       "      <td>0.366667</td>\n",
       "      <td>0.0</td>\n",
       "      <td>1</td>\n",
       "      <td>0</td>\n",
       "      <td>0</td>\n",
       "      <td>0</td>\n",
       "      <td>0</td>\n",
       "    </tr>\n",
       "    <tr>\n",
       "      <th>1995</th>\n",
       "      <td>4997</td>\n",
       "      <td>8.0</td>\n",
       "      <td>1.0</td>\n",
       "      <td>0.448276</td>\n",
       "      <td>0.545455</td>\n",
       "      <td>0.6875</td>\n",
       "      <td>0.366667</td>\n",
       "      <td>0.0</td>\n",
       "      <td>0.826087</td>\n",
       "      <td>0.366667</td>\n",
       "      <td>0.0</td>\n",
       "      <td>1</td>\n",
       "      <td>0</td>\n",
       "      <td>0</td>\n",
       "      <td>0</td>\n",
       "      <td>0</td>\n",
       "    </tr>\n",
       "    <tr>\n",
       "      <th>1996</th>\n",
       "      <td>4998</td>\n",
       "      <td>8.0</td>\n",
       "      <td>1.0</td>\n",
       "      <td>0.448276</td>\n",
       "      <td>0.545455</td>\n",
       "      <td>0.3750</td>\n",
       "      <td>0.366667</td>\n",
       "      <td>0.0</td>\n",
       "      <td>0.608696</td>\n",
       "      <td>0.366667</td>\n",
       "      <td>0.0</td>\n",
       "      <td>1</td>\n",
       "      <td>0</td>\n",
       "      <td>0</td>\n",
       "      <td>0</td>\n",
       "      <td>0</td>\n",
       "    </tr>\n",
       "  </tbody>\n",
       "</table>\n",
       "<p>1814 rows × 16 columns</p>\n",
       "</div>"
      ],
      "text/plain": [
       "        id  vehicle_type  vehicle_class  insert_date_secs  departure_mins  \\\n",
       "0     3002           8.0            1.0          0.137931        0.545455   \n",
       "1     3003           8.0            3.0          0.137931        0.000000   \n",
       "2     3004           8.0            2.0          0.137931        0.545455   \n",
       "3     3005           0.0            1.0          0.137931        0.381818   \n",
       "4     3006           8.0            1.0          0.137931        0.545455   \n",
       "...    ...           ...            ...               ...             ...   \n",
       "1990  4992           8.0            1.0          0.448276        0.545455   \n",
       "1993  4995           9.0            1.0          0.448276        0.454545   \n",
       "1994  4996           8.0            1.0          0.448276        0.545455   \n",
       "1995  4997           8.0            1.0          0.448276        0.545455   \n",
       "1996  4998           8.0            1.0          0.448276        0.545455   \n",
       "\n",
       "      departure_h  departure_d  departure_M  arrival_h  arrival_d  arrival_M  \\\n",
       "0          0.1875     0.900000          0.0   0.478261   0.900000        0.0   \n",
       "1          0.9375     0.900000          0.0   0.956522   0.900000        0.0   \n",
       "2          0.2500     0.900000          0.0   0.521739   0.900000        0.0   \n",
       "3          0.4375     0.066667          1.0   0.826087   0.066667        1.0   \n",
       "4          0.3125     0.900000          0.0   0.565217   0.900000        0.0   \n",
       "...           ...          ...          ...        ...        ...        ...   \n",
       "1990       0.1875     0.366667          0.0   0.478261   0.366667        0.0   \n",
       "1993       0.5000     0.366667          0.0   0.695652   0.366667        0.0   \n",
       "1994       0.3125     0.366667          0.0   0.565217   0.366667        0.0   \n",
       "1995       0.6875     0.366667          0.0   0.826087   0.366667        0.0   \n",
       "1996       0.3750     0.366667          0.0   0.608696   0.366667        0.0   \n",
       "\n",
       "      fare_Flexible  fare_Promo  fare_Promo +  destination_SEVILLA  \\\n",
       "0                 0           1             0                    0   \n",
       "1                 0           1             0                    0   \n",
       "2                 0           1             0                    0   \n",
       "3                 0           0             0                    0   \n",
       "4                 0           1             0                    0   \n",
       "...             ...         ...           ...                  ...   \n",
       "1990              0           1             0                    0   \n",
       "1993              1           0             0                    0   \n",
       "1994              1           0             0                    0   \n",
       "1995              1           0             0                    0   \n",
       "1996              1           0             0                    0   \n",
       "\n",
       "      destination_VALENCIA  \n",
       "0                        0  \n",
       "1                        0  \n",
       "2                        0  \n",
       "3                        1  \n",
       "4                        0  \n",
       "...                    ...  \n",
       "1990                     0  \n",
       "1993                     0  \n",
       "1994                     0  \n",
       "1995                     0  \n",
       "1996                     0  \n",
       "\n",
       "[1814 rows x 16 columns]"
      ]
     },
     "execution_count": 13,
     "metadata": {},
     "output_type": "execute_result"
    }
   ],
   "source": [
    "hehe_test = test.copy()\n",
    "\n",
    "hehe_test['departure'] = (pd.to_datetime(hehe_test['departure']))\n",
    "hehe_test['arrival'] = (pd.to_datetime(hehe_test['arrival']))\n",
    "hehe_test['insert_date'] = (pd.to_datetime(hehe_test['insert_date']))\n",
    "\n",
    "hehe_test['insert_date_secs'] = hehe_test['insert_date'].dt.second\n",
    "\n",
    "hehe_test['departure_mins'] = hehe_test['departure'].dt.minute\n",
    "hehe_test['departure_h'] = hehe_test['departure'].dt.hour\n",
    "hehe_test['departure_d'] = hehe_test['departure'].dt.day\n",
    "hehe_test['departure_M'] = hehe_test['departure'].dt.month\n",
    "\n",
    "hehe_test['arrival_h'] = hehe_test['arrival'].dt.hour\n",
    "hehe_test['arrival_d'] = hehe_test['arrival'].dt.day\n",
    "hehe_test['arrival_M'] = hehe_test['arrival'].dt.month\n",
    "\n",
    "#hehe_test = hehe_test.drop(['id'], axis = 1)\n",
    "#hehe_test = hehe_test.drop(['vehicle_class'], axis = 1)\n",
    "hehe_test = hehe_test.drop(['origin'], axis = 1)\n",
    "hehe_test = hehe_test.drop(['company'], axis = 1)\n",
    "hehe_test = hehe_test.drop(['seats'], axis = 1)\n",
    "hehe_test = hehe_test.drop(['meta'], axis = 1)\n",
    "hehe_test = hehe_test.drop(['departure'], axis = 1)\n",
    "hehe_test = hehe_test.drop(['arrival'], axis = 1)\n",
    "hehe_test = hehe_test.drop(['insert_date'], axis = 1)\n",
    "hehe_test = hehe_test.drop(['duration'], axis = 1)\n",
    "\n",
    "#hehe_test = hehe_test.fillna(hehe_test.price.mean() + randomize()*hehe_test['price'].std())\n",
    "#hehe_test.price = hehe_test.price.fillna(hehe_test.price.median() + 0.1*hehe_test['price'].std())\n",
    "hehe_test = hehe_test.dropna(axis = 0)\n",
    "\n",
    "hehe_test.vehicle_class = hehe_test.vehicle_class.fillna('Turista')\n",
    "\n",
    "hehe_test = pd.get_dummies(hehe_test,prefix=['fare'], columns = ['fare'], drop_first=True)\n",
    "hehe_test = pd.get_dummies(hehe_test,prefix=['destination'], columns = ['destination'], drop_first=True)\n",
    "\n",
    "hehe_test[['vehicle_class']] = OrdinalEncoder(categories=[['Turista con enlace', 'Turista', 'Turista Plus', 'Preferente']]).fit_transform(hehe_test[['vehicle_class']])\n",
    "hehe_test[['vehicle_type']] = OrdinalEncoder(categories=[['REGIONAL', 'MD-LD', 'INTERCITY', 'R. EXPRES', 'AVE-LD', 'AV City', 'AVE-MD', 'ALVIA', 'AVE', 'AVE-TGV']]).fit_transform(hehe_test[['vehicle_type']])\n",
    "#hehe_test[['origin']] = OrdinalEncoder().fit_transform(hehe_test[['origin']])\n",
    "#hehe_test[['destination']] = OrdinalEncoder().fit_transform(hehe_test[['destination']])\n",
    "#hehe_test[['insert_date']] = OrdinalEncoder().fit_transform(hehe_test[['insert_date']])\n",
    "\n",
    "scaler = MinMaxScaler()\n",
    "#hehe_test[['duration']] = scaler.fit_transform(hehe_test[['duration']])\n",
    "#hehe_test[['insert_date']] = scaler.fit_transform(hehe_test[['insert_date']])\n",
    "hehe_test[['insert_date_secs']] = scaler.fit_transform(hehe_test[['insert_date_secs']])\n",
    "hehe_test[['departure_mins']] = scaler.fit_transform(hehe_test[['departure_mins']])\n",
    "hehe_test[['departure_h']] = scaler.fit_transform(hehe_test[['departure_h']])\n",
    "hehe_test[['departure_d']] = scaler.fit_transform(hehe_test[['departure_d']])\n",
    "hehe_test[['departure_M']] = scaler.fit_transform(hehe_test[['departure_M']])\n",
    "hehe_test[['arrival_h']] = scaler.fit_transform(hehe_test[['arrival_h']])\n",
    "hehe_test[['arrival_d']] = scaler.fit_transform(hehe_test[['arrival_d']])\n",
    "hehe_test[['arrival_M']] = scaler.fit_transform(hehe_test[['arrival_M']])\n",
    "\n",
    "y_test = hehe_test.pop('price')\n",
    "\n",
    "hehe_test"
   ]
  },
  {
   "cell_type": "code",
   "execution_count": 265,
   "metadata": {
    "id": "9QB4U-z5ZpgZ"
   },
   "outputs": [],
   "source": [
    "from sklearn.linear_model import ElasticNet\n",
    "from sklearn.linear_model import Lasso\n",
    "from sklearn.linear_model import Ridge\n",
    "from xgboost import XGBClassifier\n",
    "from sklearn.preprocessing import LabelEncoder\n",
    "\n",
    "from sklearn.ensemble import RandomForestRegressor\n",
    "\n",
    "poly = PolynomialFeatures(degree = 1, include_bias = False)\n",
    "polyX = poly.fit_transform(hehe)\n",
    "\n",
    "#reg = linear_model.LinearRegression()\n",
    "#reg = RandomForestRegressor(max_features = 6, min_samples_leaf = 2,min_samples_split = 6, n_jobs=-1, max_depth = 15).fit(hehe,y)\n",
    "#reg = RandomForestRegressor(max_features = 10, min_samples_leaf = 4,min_samples_split = 8, max_depth = 10, n_jobs = -1, n_estimators = 20).fit(hehe,y)\n",
    "reg = RandomForestRegressor(max_features = 10, min_samples_leaf = 4, n_jobs=-1, max_depth = 10).fit(hehe,y)\n",
    "\n",
    "#reg.fit(hehe, y)\n",
    "#reg.fit(polyX, y)\n",
    "#elastic = ElasticNet(alpha = 0.01, l1_ratio= 0.75).fit(polyX, y)\n",
    "ridge = Ridge(alpha= 15).fit(hehe, y)\n",
    "#lasso = Lasso(alpha= 0.01).fit(hehe, y)\n",
    "\n",
    "\n",
    "#bst.coef_\n",
    "#reg.coef_\n",
    "#elastic.coef_\n",
    "#ridge.coef_\n",
    "#lasso.coef_"
   ]
  },
  {
   "cell_type": "code",
   "execution_count": 325,
   "metadata": {},
   "outputs": [
    {
     "name": "stdout",
     "output_type": "stream",
     "text": [
      "6.7973478736227095\n"
     ]
    }
   ],
   "source": [
    "result = 100\n",
    "model = None\n",
    "for i in range(500):\n",
    "    reg = RandomForestRegressor(max_features = 12, min_samples_leaf = 4, n_jobs=-1, max_depth = 10).fit(hehe,y)\n",
    "    y_pred = reg.predict(hehe_test)\n",
    "    aux = mean_absolute_error(y_test, y_pred)\n",
    "    if(aux < result):\n",
    "        model = reg\n",
    "        result = aux\n",
    "        \n",
    "print(result)"
   ]
  },
  {
   "cell_type": "code",
   "execution_count": 326,
   "metadata": {},
   "outputs": [
    {
     "name": "stdout",
     "output_type": "stream",
     "text": [
      "6.7973478736227095\n"
     ]
    }
   ],
   "source": [
    "print(result)"
   ]
  },
  {
   "cell_type": "code",
   "execution_count": 327,
   "metadata": {
    "id": "xFpNhgnpUjbn"
   },
   "outputs": [],
   "source": [
    "#from sklearn.preprocessing import LabelEncoder\n",
    "#le = LabelEncoder()\n",
    "#y_train = le.fit_transform(y_train)\n",
    "\n",
    "#bst = XGBClassifier(n_estimators=2, max_depth=2, learning_rate=1)\n",
    "#bst.fit(polyX, y)"
   ]
  },
  {
   "cell_type": "code",
   "execution_count": 328,
   "metadata": {
    "id": "7zSEkiybZwdL"
   },
   "outputs": [],
   "source": [
    "y_pred = model.predict(hehe_test)\n",
    "#y_pred = elastic.predict(hehe_test)\n",
    "#y_pred = ridge.predict(hehe_test)\n",
    "#y_pred = lasso.predict(hehe_test)"
   ]
  },
  {
   "cell_type": "code",
   "execution_count": 329,
   "metadata": {
    "colab": {
     "base_uri": "https://localhost:8080/",
     "height": 423
    },
    "id": "SeQQBwdjpP3U",
    "outputId": "63179a4c-b939-474b-e1d3-64d169489ffb"
   },
   "outputs": [
    {
     "data": {
      "text/html": [
       "<div>\n",
       "<style scoped>\n",
       "    .dataframe tbody tr th:only-of-type {\n",
       "        vertical-align: middle;\n",
       "    }\n",
       "\n",
       "    .dataframe tbody tr th {\n",
       "        vertical-align: top;\n",
       "    }\n",
       "\n",
       "    .dataframe thead th {\n",
       "        text-align: right;\n",
       "    }\n",
       "</style>\n",
       "<table border=\"1\" class=\"dataframe\">\n",
       "  <thead>\n",
       "    <tr style=\"text-align: right;\">\n",
       "      <th></th>\n",
       "      <th>0</th>\n",
       "    </tr>\n",
       "  </thead>\n",
       "  <tbody>\n",
       "    <tr>\n",
       "      <th>0</th>\n",
       "      <td>76.597997</td>\n",
       "    </tr>\n",
       "    <tr>\n",
       "      <th>1</th>\n",
       "      <td>95.285715</td>\n",
       "    </tr>\n",
       "    <tr>\n",
       "      <th>2</th>\n",
       "      <td>85.751476</td>\n",
       "    </tr>\n",
       "    <tr>\n",
       "      <th>3</th>\n",
       "      <td>28.402250</td>\n",
       "    </tr>\n",
       "    <tr>\n",
       "      <th>4</th>\n",
       "      <td>76.824255</td>\n",
       "    </tr>\n",
       "    <tr>\n",
       "      <th>...</th>\n",
       "      <td>...</td>\n",
       "    </tr>\n",
       "    <tr>\n",
       "      <th>1809</th>\n",
       "      <td>76.776920</td>\n",
       "    </tr>\n",
       "    <tr>\n",
       "      <th>1810</th>\n",
       "      <td>110.041502</td>\n",
       "    </tr>\n",
       "    <tr>\n",
       "      <th>1811</th>\n",
       "      <td>107.700000</td>\n",
       "    </tr>\n",
       "    <tr>\n",
       "      <th>1812</th>\n",
       "      <td>107.700000</td>\n",
       "    </tr>\n",
       "    <tr>\n",
       "      <th>1813</th>\n",
       "      <td>107.700000</td>\n",
       "    </tr>\n",
       "  </tbody>\n",
       "</table>\n",
       "<p>1814 rows × 1 columns</p>\n",
       "</div>"
      ],
      "text/plain": [
       "               0\n",
       "0      76.597997\n",
       "1      95.285715\n",
       "2      85.751476\n",
       "3      28.402250\n",
       "4      76.824255\n",
       "...          ...\n",
       "1809   76.776920\n",
       "1810  110.041502\n",
       "1811  107.700000\n",
       "1812  107.700000\n",
       "1813  107.700000\n",
       "\n",
       "[1814 rows x 1 columns]"
      ]
     },
     "execution_count": 329,
     "metadata": {},
     "output_type": "execute_result"
    }
   ],
   "source": [
    "pd.DataFrame(y_pred)"
   ]
  },
  {
   "cell_type": "code",
   "execution_count": 330,
   "metadata": {
    "colab": {
     "base_uri": "https://localhost:8080/"
    },
    "id": "l_TQaTelDc43",
    "outputId": "58268cba-7ef8-4377-9b82-1f090f5ff62e"
   },
   "outputs": [
    {
     "data": {
      "text/plain": [
       "0    0\n",
       "dtype: int64"
      ]
     },
     "execution_count": 330,
     "metadata": {},
     "output_type": "execute_result"
    }
   ],
   "source": [
    "pd.DataFrame(y_pred).isna().sum()"
   ]
  },
  {
   "cell_type": "code",
   "execution_count": 331,
   "metadata": {
    "colab": {
     "base_uri": "https://localhost:8080/"
    },
    "id": "oMmsaMqJ70tn",
    "outputId": "cee1bf7f-4ad6-4469-8d36-1172f399e8bf"
   },
   "outputs": [
    {
     "data": {
      "text/plain": [
       "0        75.40\n",
       "1       115.65\n",
       "2        90.50\n",
       "3        28.35\n",
       "4        85.10\n",
       "         ...  \n",
       "1990     85.10\n",
       "1993    107.70\n",
       "1994    107.70\n",
       "1995    107.70\n",
       "1996    107.70\n",
       "Name: price, Length: 1814, dtype: float64"
      ]
     },
     "execution_count": 331,
     "metadata": {},
     "output_type": "execute_result"
    }
   ],
   "source": [
    "y_test"
   ]
  },
  {
   "cell_type": "code",
   "execution_count": 332,
   "metadata": {
    "id": "PdBOrCrqDk7K"
   },
   "outputs": [],
   "source": [
    "y_test = y_test.fillna(y_pred.mean())"
   ]
  },
  {
   "cell_type": "code",
   "execution_count": 333,
   "metadata": {
    "id": "rriTCEjOsonS"
   },
   "outputs": [],
   "source": [
    "a = abs(y_pred - np.array(y_test))\n",
    "#list(a)"
   ]
  },
  {
   "cell_type": "code",
   "execution_count": 334,
   "metadata": {
    "colab": {
     "base_uri": "https://localhost:8080/"
    },
    "id": "oWxbLQfhspG3",
    "outputId": "a2e1cb17-0723-4730-ffe2-1df14fd4369e"
   },
   "outputs": [
    {
     "data": {
      "text/plain": [
       "6.7973478736227095"
      ]
     },
     "execution_count": 334,
     "metadata": {},
     "output_type": "execute_result"
    }
   ],
   "source": [
    "np.mean(a)"
   ]
  },
  {
   "cell_type": "code",
   "execution_count": 335,
   "metadata": {
    "colab": {
     "base_uri": "https://localhost:8080/"
    },
    "id": "rdkSP3xnksug",
    "outputId": "3bc883aa-03d3-4564-f41f-1570a1201c6b"
   },
   "outputs": [
    {
     "data": {
      "text/plain": [
       "0.8513060111527435"
      ]
     },
     "execution_count": 335,
     "metadata": {},
     "output_type": "execute_result"
    }
   ],
   "source": [
    "from sklearn.metrics import r2_score\n",
    "r2_score(y_test, y_pred)"
   ]
  },
  {
   "cell_type": "code",
   "execution_count": 336,
   "metadata": {
    "colab": {
     "base_uri": "https://localhost:8080/",
     "height": 266
    },
    "id": "_znGReXB4V42",
    "outputId": "e4b4d359-3b90-4b7d-9c74-c0cf00016efa"
   },
   "outputs": [
    {
     "data": {
      "image/png": "[encoded data removed]",
      "text/plain": [
       "<Figure size 640x480 with 1 Axes>"
      ]
     },
     "metadata": {},
     "output_type": "display_data"
    }
   ],
   "source": [
    "from scipy.stats import norm\n",
    "\n",
    "mean = np.mean(a)\n",
    "sd = np.std(a)\n",
    "\n",
    "plt.plot(a, norm.pdf(a, mean, sd))\n",
    "plt.show()"
   ]
  },
  {
   "cell_type": "code",
   "execution_count": 337,
   "metadata": {
    "colab": {
     "base_uri": "https://localhost:8080/"
    },
    "id": "OFT_-hQAmRxQ",
    "outputId": "55e5b418-7e9b-49a8-de34-ae036fe008df"
   },
   "outputs": [
    {
     "name": "stdout",
     "output_type": "stream",
     "text": [
      "6.7973478736227095\n",
      "109.81802541285488\n",
      "10.479409592761172\n"
     ]
    }
   ],
   "source": [
    "print(mean_absolute_error(y_test, y_pred))\n",
    "print(mean_squared_error(y_test, y_pred))\n",
    "print(mean_squared_error(y_test, y_pred, squared=False))"
   ]
  },
  {
   "cell_type": "code",
   "execution_count": 338,
   "metadata": {
    "colab": {
     "base_uri": "https://localhost:8080/"
    },
    "id": "Acqb3HKVyhpQ",
    "outputId": "4647cc01-5ab3-4ca3-e59e-55d1bec17bb6"
   },
   "outputs": [
    {
     "data": {
      "text/plain": [
       "0       3002\n",
       "1       3003\n",
       "2       3004\n",
       "3       3005\n",
       "4       3006\n",
       "        ... \n",
       "1990    4992\n",
       "1993    4995\n",
       "1994    4996\n",
       "1995    4997\n",
       "1996    4998\n",
       "Name: id, Length: 1814, dtype: int64"
      ]
     },
     "execution_count": 338,
     "metadata": {},
     "output_type": "execute_result"
    }
   ],
   "source": [
    "hehe_test['id']"
   ]
  },
  {
   "cell_type": "code",
   "execution_count": 339,
   "metadata": {
    "colab": {
     "base_uri": "https://localhost:8080/",
     "height": 423
    },
    "id": "Ymkb-z2MyJCu",
    "outputId": "71e751bb-38e4-4dd8-edc0-5e217f5b55a2"
   },
   "outputs": [
    {
     "data": {
      "text/html": [
       "<div>\n",
       "<style scoped>\n",
       "    .dataframe tbody tr th:only-of-type {\n",
       "        vertical-align: middle;\n",
       "    }\n",
       "\n",
       "    .dataframe tbody tr th {\n",
       "        vertical-align: top;\n",
       "    }\n",
       "\n",
       "    .dataframe thead th {\n",
       "        text-align: right;\n",
       "    }\n",
       "</style>\n",
       "<table border=\"1\" class=\"dataframe\">\n",
       "  <thead>\n",
       "    <tr style=\"text-align: right;\">\n",
       "      <th></th>\n",
       "      <th>id</th>\n",
       "      <th>price</th>\n",
       "    </tr>\n",
       "  </thead>\n",
       "  <tbody>\n",
       "    <tr>\n",
       "      <th>0</th>\n",
       "      <td>3002</td>\n",
       "      <td>76.597997</td>\n",
       "    </tr>\n",
       "    <tr>\n",
       "      <th>1</th>\n",
       "      <td>3003</td>\n",
       "      <td>95.285715</td>\n",
       "    </tr>\n",
       "    <tr>\n",
       "      <th>2</th>\n",
       "      <td>3004</td>\n",
       "      <td>85.751476</td>\n",
       "    </tr>\n",
       "    <tr>\n",
       "      <th>3</th>\n",
       "      <td>3005</td>\n",
       "      <td>28.402250</td>\n",
       "    </tr>\n",
       "    <tr>\n",
       "      <th>4</th>\n",
       "      <td>3006</td>\n",
       "      <td>76.824255</td>\n",
       "    </tr>\n",
       "    <tr>\n",
       "      <th>...</th>\n",
       "      <td>...</td>\n",
       "      <td>...</td>\n",
       "    </tr>\n",
       "    <tr>\n",
       "      <th>1990</th>\n",
       "      <td>4992</td>\n",
       "      <td>76.776920</td>\n",
       "    </tr>\n",
       "    <tr>\n",
       "      <th>1993</th>\n",
       "      <td>4995</td>\n",
       "      <td>110.041502</td>\n",
       "    </tr>\n",
       "    <tr>\n",
       "      <th>1994</th>\n",
       "      <td>4996</td>\n",
       "      <td>107.700000</td>\n",
       "    </tr>\n",
       "    <tr>\n",
       "      <th>1995</th>\n",
       "      <td>4997</td>\n",
       "      <td>107.700000</td>\n",
       "    </tr>\n",
       "    <tr>\n",
       "      <th>1996</th>\n",
       "      <td>4998</td>\n",
       "      <td>107.700000</td>\n",
       "    </tr>\n",
       "  </tbody>\n",
       "</table>\n",
       "<p>1814 rows × 2 columns</p>\n",
       "</div>"
      ],
      "text/plain": [
       "        id       price\n",
       "0     3002   76.597997\n",
       "1     3003   95.285715\n",
       "2     3004   85.751476\n",
       "3     3005   28.402250\n",
       "4     3006   76.824255\n",
       "...    ...         ...\n",
       "1990  4992   76.776920\n",
       "1993  4995  110.041502\n",
       "1994  4996  107.700000\n",
       "1995  4997  107.700000\n",
       "1996  4998  107.700000\n",
       "\n",
       "[1814 rows x 2 columns]"
      ]
     },
     "execution_count": 339,
     "metadata": {},
     "output_type": "execute_result"
    }
   ],
   "source": [
    "y_price = pd.DataFrame()\n",
    "y_price['id'] = hehe_test['id']\n",
    "y_price['price'] = y_pred\n",
    "y_price"
   ]
  },
  {
   "cell_type": "code",
   "execution_count": 340,
   "metadata": {
    "colab": {
     "base_uri": "https://localhost:8080/",
     "height": 423
    },
    "id": "5qQeVogySz5_",
    "outputId": "cc87c65e-2035-4851-b4c7-939fe2c6e5d5"
   },
   "outputs": [
    {
     "data": {
      "text/html": [
       "<div>\n",
       "<style scoped>\n",
       "    .dataframe tbody tr th:only-of-type {\n",
       "        vertical-align: middle;\n",
       "    }\n",
       "\n",
       "    .dataframe tbody tr th {\n",
       "        vertical-align: top;\n",
       "    }\n",
       "\n",
       "    .dataframe thead th {\n",
       "        text-align: right;\n",
       "    }\n",
       "</style>\n",
       "<table border=\"1\" class=\"dataframe\">\n",
       "  <thead>\n",
       "    <tr style=\"text-align: right;\">\n",
       "      <th></th>\n",
       "      <th>id</th>\n",
       "      <th>price</th>\n",
       "    </tr>\n",
       "  </thead>\n",
       "  <tbody>\n",
       "    <tr>\n",
       "      <th>0</th>\n",
       "      <td>3002</td>\n",
       "      <td>76.597997</td>\n",
       "    </tr>\n",
       "    <tr>\n",
       "      <th>1</th>\n",
       "      <td>3003</td>\n",
       "      <td>95.285715</td>\n",
       "    </tr>\n",
       "    <tr>\n",
       "      <th>2</th>\n",
       "      <td>3004</td>\n",
       "      <td>85.751476</td>\n",
       "    </tr>\n",
       "    <tr>\n",
       "      <th>3</th>\n",
       "      <td>3005</td>\n",
       "      <td>28.402250</td>\n",
       "    </tr>\n",
       "    <tr>\n",
       "      <th>4</th>\n",
       "      <td>3006</td>\n",
       "      <td>76.824255</td>\n",
       "    </tr>\n",
       "    <tr>\n",
       "      <th>...</th>\n",
       "      <td>...</td>\n",
       "      <td>...</td>\n",
       "    </tr>\n",
       "    <tr>\n",
       "      <th>1994</th>\n",
       "      <td>4996</td>\n",
       "      <td>107.700000</td>\n",
       "    </tr>\n",
       "    <tr>\n",
       "      <th>1995</th>\n",
       "      <td>4997</td>\n",
       "      <td>107.700000</td>\n",
       "    </tr>\n",
       "    <tr>\n",
       "      <th>1996</th>\n",
       "      <td>4998</td>\n",
       "      <td>107.700000</td>\n",
       "    </tr>\n",
       "    <tr>\n",
       "      <th>1997</th>\n",
       "      <td>4999</td>\n",
       "      <td>51.390717</td>\n",
       "    </tr>\n",
       "    <tr>\n",
       "      <th>1998</th>\n",
       "      <td>5000</td>\n",
       "      <td>51.390717</td>\n",
       "    </tr>\n",
       "  </tbody>\n",
       "</table>\n",
       "<p>1999 rows × 2 columns</p>\n",
       "</div>"
      ],
      "text/plain": [
       "        id       price\n",
       "0     3002   76.597997\n",
       "1     3003   95.285715\n",
       "2     3004   85.751476\n",
       "3     3005   28.402250\n",
       "4     3006   76.824255\n",
       "...    ...         ...\n",
       "1994  4996  107.700000\n",
       "1995  4997  107.700000\n",
       "1996  4998  107.700000\n",
       "1997  4999   51.390717\n",
       "1998  5000   51.390717\n",
       "\n",
       "[1999 rows x 2 columns]"
      ]
     },
     "execution_count": 340,
     "metadata": {},
     "output_type": "execute_result"
    }
   ],
   "source": [
    "predictions = pd.DataFrame(test['id'], columns=['id'])\n",
    "predictions =  pd.merge(predictions, y_price, on= 'id', how='outer')\n",
    "predictions = predictions.price.fillna(predictions.price.median() + predictions.price.std()*0.1)\n",
    "predictions = pd.DataFrame(predictions)\n",
    "predictions.insert(0, 'id', test['id'])\n",
    "predictions"
   ]
  },
  {
   "cell_type": "code",
   "execution_count": 341,
   "metadata": {
    "colab": {
     "base_uri": "https://localhost:8080/"
    },
    "id": "M87p1OMMLTC2",
    "outputId": "aa6dfaad-28b8-47d2-f1c5-cd98bb6c93f4"
   },
   "outputs": [
    {
     "name": "stdout",
     "output_type": "stream",
     "text": [
      "3.7960881153565245\n",
      "35.919418460125016\n",
      "5.993281109719868\n"
     ]
    },
    {
     "data": {
      "text/plain": [
       "0.9411606047720233"
      ]
     },
     "execution_count": 341,
     "metadata": {},
     "output_type": "execute_result"
    }
   ],
   "source": [
    "y_hat = reg.predict(hehe)\n",
    "print(mean_absolute_error(y_hat, y))\n",
    "print(mean_squared_error(y_hat, y))\n",
    "print(mean_squared_error(y_hat, y, squared=False))\n",
    "r2_score(y_hat, y)"
   ]
  },
  {
   "cell_type": "code",
   "execution_count": 342,
   "metadata": {
    "id": "WNrm4NNcSExN"
   },
   "outputs": [],
   "source": [
    "predictions.to_csv('Resultao.csv', index=False)"
   ]
  },
  {
   "cell_type": "code",
   "execution_count": 322,
   "metadata": {
    "colab": {
     "base_uri": "https://localhost:8080/",
     "height": 171
    },
    "id": "s39bT23YzPvt",
    "outputId": "e2671c06-a561-40aa-96ca-c2f30bc64f7c"
   },
   "outputs": [
    {
     "ename": "AttributeError",
     "evalue": "'RandomForestRegressor' object has no attribute 'intercept_'",
     "output_type": "error",
     "traceback": [
      "\u001b[1;31m---------------------------------------------------------------------------\u001b[0m",
      "\u001b[1;31mAttributeError\u001b[0m                            Traceback (most recent call last)",
      "Input \u001b[1;32mIn [322]\u001b[0m, in \u001b[0;36m<cell line: 1>\u001b[1;34m()\u001b[0m\n\u001b[1;32m----> 1\u001b[0m \u001b[43mreg\u001b[49m\u001b[38;5;241;43m.\u001b[39;49m\u001b[43mintercept_\u001b[49m\n",
      "\u001b[1;31mAttributeError\u001b[0m: 'RandomForestRegressor' object has no attribute 'intercept_'"
     ]
    }
   ],
   "source": [
    "reg.intercept_"
   ]
  },
  {
   "cell_type": "code",
   "execution_count": 323,
   "metadata": {
    "colab": {
     "base_uri": "https://localhost:8080/"
    },
    "id": "XoXv2fMLMEQR",
    "outputId": "6cafb2f2-68d8-49da-b71e-a06cc786b623"
   },
   "outputs": [
    {
     "data": {
      "text/plain": [
       "array([-173.25204061, -135.54565371])"
      ]
     },
     "execution_count": 323,
     "metadata": {},
     "output_type": "execute_result"
    }
   ],
   "source": [
    "from sklearn.model_selection import cross_val_score\n",
    "\n",
    "cross_val_score(reg, hehe, y, cv=2, scoring='neg_mean_squared_error')"
   ]
  },
  {
   "cell_type": "code",
   "execution_count": null,
   "metadata": {
    "id": "KPRnGIX4IXkI"
   },
   "outputs": [],
   "source": []
  }
 ],
 "metadata": {
  "colab": {
   "provenance": []
  },
  "kernelspec": {
   "display_name": "Python 3 (ipykernel)",
   "language": "python",
   "name": "python3"
  },
  "language_info": {
   "codemirror_mode": {
    "name": "ipython",
    "version": 3
   },
   "file_extension": ".py",
   "mimetype": "text/x-python",
   "name": "python",
   "nbconvert_exporter": "python",
   "pygments_lexer": "ipython3",
   "version": "3.9.13"
  }
 },
 "nbformat": 4,
 "nbformat_minor": 1
}
